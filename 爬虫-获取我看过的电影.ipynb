{
 "cells": [
  {
   "cell_type": "code",
   "execution_count": null,
   "metadata": {},
   "outputs": [],
   "source": [
    "import requests\n",
    "import pandas as pd\n",
    "import time\n",
    "import random\n",
    "import re\n",
    "\n",
    "headers={\n",
    "    'User-Agent': \n",
    "    'Mozilla/5.0 (Windows NT 6.3; WOW64) AppleWebKit/537.36 (KHTML, like Gecko) Chrome/69.0.3497.100 Safari/537.36'\n",
    "}\n",
    "cookies={\n",
    "    'cookie':你的cookies\n",
    "}\n",
    "\n",
    "n=range(36)  #看过的电影数529部，共36页\n",
    "my_list=[]   #mylist=[(URL 1，电影名1，我的评分1),(URL 2，电影名2，我的评分2)......]\n",
    "\n",
    "for i in n:\n",
    "    url='https://movie.douban.com/people/账号id/collect?start='+str(15*i)  #填写账号id\n",
    "    response=requests.get(url,cookies=cookies,headers=headers)\n",
    "    pattern=re.compile('<li class=\"title\".*?href=\"(.*?)\" class=\".*?<em>(.*?)</em>.*?class=\"rating(\\d)-t\"',re.S)\n",
    "    result=re.findall(pattern,response.text)\n",
    "    my_list +=result\n",
    "    time.sleep(random.uniform(1,2))\n",
    "    \n",
    "list=pd.DataFrame(my_list,columns=['url','m_name','my_rating'])\n",
    "list.to_csv('my_list.csv',encoding='utf_8_sig')"
   ]
  },
  {
   "cell_type": "code",
   "execution_count": null,
   "metadata": {},
   "outputs": [],
   "source": []
  },
  {
   "cell_type": "code",
   "execution_count": null,
   "metadata": {},
   "outputs": [],
   "source": []
  },
  {
   "cell_type": "code",
   "execution_count": null,
   "metadata": {},
   "outputs": [],
   "source": []
  }
 ],
 "metadata": {
  "kernelspec": {
   "display_name": "Python 3",
   "language": "python",
   "name": "python3"
  },
  "language_info": {
   "codemirror_mode": {
    "name": "ipython",
    "version": 3
   },
   "file_extension": ".py",
   "mimetype": "text/x-python",
   "name": "python",
   "nbconvert_exporter": "python",
   "pygments_lexer": "ipython3",
   "version": "3.7.3"
  },
  "toc": {
   "base_numbering": 1,
   "nav_menu": {},
   "number_sections": true,
   "sideBar": true,
   "skip_h1_title": false,
   "title_cell": "Table of Contents",
   "title_sidebar": "Contents",
   "toc_cell": false,
   "toc_position": {},
   "toc_section_display": true,
   "toc_window_display": false
  }
 },
 "nbformat": 4,
 "nbformat_minor": 2
}
